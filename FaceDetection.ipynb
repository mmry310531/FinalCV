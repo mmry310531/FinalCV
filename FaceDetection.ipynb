{
 "cells": [
  {
   "cell_type": "code",
   "execution_count": 138,
   "id": "5967f7e8",
   "metadata": {},
   "outputs": [
    {
     "name": "stdout",
     "output_type": "stream",
     "text": [
      "Requirement already satisfied: imutils in /Users/caichengen/opt/anaconda3/lib/python3.9/site-packages (0.5.4)\n",
      "Note: you may need to restart the kernel to use updated packages.\n"
     ]
    }
   ],
   "source": [
    "%pip install imutils\n",
    "%matplotlib inline"
   ]
  },
  {
   "cell_type": "code",
   "execution_count": 139,
   "id": "26c3d5c6",
   "metadata": {},
   "outputs": [],
   "source": [
    "import cv2\n",
    "import argparse\n",
    "import ntpath\n",
    "import os\n",
    "import time\n",
    "import matplotlib.pyplot as plt\n",
    "import numpy as np\n",
    "import imutils\n",
    "from imutils.video import WebcamVideoStream"
   ]
  },
  {
   "cell_type": "code",
   "execution_count": 140,
   "id": "fd8ccc4e",
   "metadata": {},
   "outputs": [],
   "source": [
    "def readFiles(path):\n",
    "    img = cv2.imread(path)\n",
    "    return img"
   ]
  },
  {
   "cell_type": "code",
   "execution_count": 141,
   "id": "15d9b1ec",
   "metadata": {},
   "outputs": [],
   "source": [
    "detectors = {\n",
    "    \"eye\": os.path.sep.join([ntpath.dirname(cv2.__file__), 'data', 'haarcascade_eye.xml']),\n",
    "    \"face\": os.path.sep.join([ntpath.dirname(cv2.__file__), 'data', 'haarcascade_frontalface_default.xml'])\n",
    "}\n",
    "def detect(gray, part=\"face\"):\n",
    "    \n",
    "    detector = cv2.CascadeClassifier(detectors[part])\n",
    "    rects = detector.detectMultiScale(gray, scaleFactor=2, minNeighbors=5, minSize=(15, 15),\n",
    "                                      flags=cv2.CASCADE_SCALE_IMAGE)\n",
    "    return rects"
   ]
  },
  {
   "cell_type": "code",
   "execution_count": 142,
   "id": "511e5eb5",
   "metadata": {},
   "outputs": [],
   "source": [
    "def Recording():\n",
    "    \n",
    "    # open webcam\n",
    "    vs = WebcamVideoStream().start()\n",
    "    start = time.time()\n",
    "    fps = vs.stream.get(cv2.CAP_PROP_FPS)\n",
    "    print(\"Frames per second using cv2.CAP_PROP_FPS : {0}\".format(fps))\n",
    "\n",
    "    while True:\n",
    "        # turn to gray image to detect face\n",
    "        frame = vs.read()\n",
    "        img = frame.copy()\n",
    "        img = imutils.resize(img, width=300)\n",
    "        gray = cv2.cvtColor(img, cv2.COLOR_BGR2GRAY)\n",
    "\n",
    "        # 呼叫偵測函數，取得結果\n",
    "        rects = detect(gray)\n",
    "        \n",
    "        # 繪出偵測結果 (記得將偵測的座標轉回原本的frame大小)\n",
    "        ratio = frame.shape[1] / img.shape[1]\n",
    "        for rect in rects:\n",
    "            rect = rect * ratio\n",
    "            (x, y, w, h) = rect.astype(\"int\")\n",
    "            cv2.rectangle(frame, (x, y), (x + w, y + h), (0, 255, 0), 2)\n",
    "\n",
    "        # 標示FPS\n",
    "        end = time.time()\n",
    "        text = f\"FPS: {str(int(1 / (end - start)))}\"\n",
    "        cv2.putText(frame, text, (10, 30), cv2.FONT_HERSHEY_SIMPLEX, 0.7, (0, 0, 255), 2)\n",
    "        start = end\n",
    "\n",
    "        # 顯示影像\n",
    "        cv2.imshow(\"Frame\", frame)\n",
    "\n",
    "        # 判斷是否案下\"q\"；跳離迴圈\n",
    "        key = cv2.waitKey(1) & 0xff\n",
    "        if key == ord('q'):\n",
    "            break\n",
    "\n",
    "    #  清除畫面與結束WebCam\n",
    "    cv2.destroyAllWindows()\n",
    "    vs.stop()\n",
    "\n",
    "\n"
   ]
  },
  {
   "cell_type": "code",
   "execution_count": 143,
   "id": "2cec2cf9",
   "metadata": {},
   "outputs": [],
   "source": [
    "def img2Gray(img):\n",
    "    gray = cv2.cvtColor(img, cv2.COLOR_BGR2GRAY)\n",
    "    return img, gray"
   ]
  },
  {
   "cell_type": "code",
   "execution_count": 144,
   "id": "43128b8f",
   "metadata": {},
   "outputs": [],
   "source": [
    "def showImage(img):\n",
    "    plt.imshow(cv2.cvtColor(img, cv2.COLOR_BGR2RGB))\n",
    "    plt.show()"
   ]
  },
  {
   "cell_type": "code",
   "execution_count": 155,
   "id": "88da710b",
   "metadata": {},
   "outputs": [],
   "source": [
    "def GetFaceMask(img):\n",
    "    img, Gimg = img2Gray(img)\n",
    "    rects = detect(Gimg) # return multi-face\n",
    "    \n",
    "    # Face mask, cut out of face region\n",
    "    Facemask = np.zeros_like(img)\n",
    "    (y, x, w, h) = rects[0].astype(\"int\")\n",
    "    Facemask = cv2.rectangle(Facemask, (y,x), (y + w, x + h), (255,255,255), -1)\n",
    "    \n",
    "    return Facemask"
   ]
  },
  {
   "cell_type": "code",
   "execution_count": 156,
   "id": "18b25fb3",
   "metadata": {},
   "outputs": [],
   "source": [
    "def skinDetection(img):\n",
    "    img_HSV = cv2.cvtColor(img, cv2.COLOR_BGR2HSV)\n",
    "    HSV_mask = cv2.inRange(img_HSV, (0, 15, 0), (17,170,255)) \n",
    "    HSV_mask = cv2.morphologyEx(HSV_mask, cv2.MORPH_OPEN, np.ones((3,3), np.uint8))\n",
    "\n",
    "    #converting from gbr to YCbCr color space\n",
    "    img_YCrCb = cv2.cvtColor(img, cv2.COLOR_BGR2YCrCb)\n",
    "    #skin color range for hsv color space \n",
    "    YCrCb_mask = cv2.inRange(img_YCrCb, (0, 135, 85), (255,180,135)) \n",
    "    YCrCb_mask = cv2.morphologyEx(YCrCb_mask, cv2.MORPH_OPEN, np.ones((3,3), np.uint8))\n",
    "\n",
    "    #merge skin detection (YCbCr and hsv)\n",
    "    global_mask=cv2.bitwise_and(YCrCb_mask,HSV_mask)\n",
    "    global_mask=cv2.medianBlur(global_mask,3)\n",
    "    global_mask = cv2.morphologyEx(global_mask, cv2.MORPH_OPEN, np.ones((4,4), np.uint8))\n",
    "\n",
    "\n",
    "    HSV_result = cv2.bitwise_not(HSV_mask)\n",
    "    YCrCb_result = cv2.bitwise_not(YCrCb_mask)\n",
    "    global_result=cv2.bitwise_not(global_mask)\n",
    "    \n",
    "    return global_result"
   ]
  },
  {
   "cell_type": "code",
   "execution_count": 157,
   "id": "f46414b4",
   "metadata": {},
   "outputs": [],
   "source": [
    "def GetSkinMask(img):\n",
    "    # find skin region, 0 is skin, otherwise is 1\n",
    "    SkinImage = skinDetection(img)\n",
    "    skinMask = np.zeros_like(img)\n",
    "    skinMask[SkinImage[:,:] == 0] = (255,255,255)\n",
    "    skinMask[SkinImage[:,:] == 1] = (0, 0, 0)\n",
    "    \n",
    "    return \n"
   ]
  },
  {
   "cell_type": "code",
   "execution_count": 162,
   "id": "f1944405",
   "metadata": {},
   "outputs": [
    {
     "data": {
      "image/png": "[encoded data removed]",
      "text/plain": [
       "<Figure size 432x288 with 1 Axes>"
      ]
     },
     "metadata": {
      "needs_background": "light"
     },
     "output_type": "display_data"
    }
   ],
   "source": [
    "if __name__ == \"__main__\":\n",
    "    \n",
    "    #Read Image\n",
    "    img = cv2.imread('data/acne_face.jpeg')\n",
    "\n",
    "    skinMask = GetSkinMask(img)\n",
    "    faceMask = GetFaceMask(img)\n",
    "    \n",
    "    \n",
    "    # combine two mask\n",
    "    Face_Skin_Mask = cv2.bitwise_and(skinMask, mask)\n",
    "    cv2.imwrite('MaskFaceSkin.png', Face_Skin_Mask)\n",
    "    showImage(Face_Skin_Mask)\n",
    "\n",
    "\n",
    "    "
   ]
  },
  {
   "cell_type": "code",
   "execution_count": 103,
   "id": "58a34115",
   "metadata": {},
   "outputs": [
    {
     "data": {
      "text/plain": [
       "(array([396, 399, 434, 435, 438, 440, 440, 441]),\n",
       " array([866, 864, 470, 470, 710, 705, 706, 705]))"
      ]
     },
     "execution_count": 103,
     "metadata": {},
     "output_type": "execute_result"
    }
   ],
   "source": [
    "black"
   ]
  },
  {
   "cell_type": "code",
   "execution_count": null,
   "id": "0834d179",
   "metadata": {},
   "outputs": [],
   "source": []
  }
 ],
 "metadata": {
  "kernelspec": {
   "display_name": "Python 3 (ipykernel)",
   "language": "python",
   "name": "python3"
  },
  "language_info": {
   "codemirror_mode": {
    "name": "ipython",
    "version": 3
   },
   "file_extension": ".py",
   "mimetype": "text/x-python",
   "name": "python",
   "nbconvert_exporter": "python",
   "pygments_lexer": "ipython3",
   "version": "3.9.7"
  }
 },
 "nbformat": 4,
 "nbformat_minor": 5
}
