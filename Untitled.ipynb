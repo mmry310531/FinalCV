{
 "cells": [
  {
   "cell_type": "code",
   "execution_count": 19,
   "id": "d01abe0c",
   "metadata": {},
   "outputs": [
    {
     "name": "stdout",
     "output_type": "stream",
     "text": [
      "Using matplotlib backend: Qt5Agg\n"
     ]
    }
   ],
   "source": [
    "import Detect_Acne as DA\n",
    "import matplotlib.pyplot as plt\n",
    "%matplotlib"
   ]
  },
  {
   "cell_type": "code",
   "execution_count": null,
   "id": "3b1522ee",
   "metadata": {},
   "outputs": [],
   "source": [
    "class MergeAcne"
   ]
  },
  {
   "cell_type": "code",
   "execution_count": 20,
   "id": "2f27c4e9",
   "metadata": {},
   "outputs": [],
   "source": [
    "def showImage(img):\n",
    "    plt.imshow(cv2.cvtColor(img, cv2.COLOR_BGR2RGB))\n",
    "    plt.show()"
   ]
  },
  {
   "cell_type": "code",
   "execution_count": 21,
   "id": "c27c0141",
   "metadata": {},
   "outputs": [],
   "source": [
    "import cv2\n",
    "import numpy as np"
   ]
  },
  {
   "cell_type": "code",
   "execution_count": 57,
   "id": "3b4b2908",
   "metadata": {},
   "outputs": [],
   "source": [
    "Origin_img = cv2.imread('./ClearMask.png')\n",
    "img = Origin_img.copy()\n",
    "ad = DA.Acne_Dector(img)\n",
    "ad.run(method =1, debug=False)\n",
    "ad.mask = cv2.bitwise_not(ad.mask)\n",
    "showImage(ad.mask)\n"
   ]
  },
  {
   "cell_type": "code",
   "execution_count": 53,
   "id": "8824798f",
   "metadata": {},
   "outputs": [],
   "source": [
    "img = cv2.imread(\"data/acne.jpg\")\n",
    "mask = img.copy()\n",
    "\n",
    "mask[np.where(ad.mask!=255)] = (0,0,0)\n",
    "mask[np.where(ad.mask==255)]= (255,255,255)\n",
    "showImage(mask)"
   ]
  },
  {
   "cell_type": "code",
   "execution_count": 55,
   "id": "63131be3",
   "metadata": {},
   "outputs": [],
   "source": [
    "img = cv2.bitwise_and(img, mask)"
   ]
  },
  {
   "cell_type": "code",
   "execution_count": 56,
   "id": "c2310f6e",
   "metadata": {},
   "outputs": [],
   "source": [
    "showImage(img)"
   ]
  },
  {
   "cell_type": "code",
   "execution_count": null,
   "id": "35147289",
   "metadata": {},
   "outputs": [],
   "source": []
  }
 ],
 "metadata": {
  "kernelspec": {
   "display_name": "Python 3 (ipykernel)",
   "language": "python",
   "name": "python3"
  },
  "language_info": {
   "codemirror_mode": {
    "name": "ipython",
    "version": 3
   },
   "file_extension": ".py",
   "mimetype": "text/x-python",
   "name": "python",
   "nbconvert_exporter": "python",
   "pygments_lexer": "ipython3",
   "version": "3.9.7"
  }
 },
 "nbformat": 4,
 "nbformat_minor": 5
}
