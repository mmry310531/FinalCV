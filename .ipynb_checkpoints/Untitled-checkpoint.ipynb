{
 "cells": [
  {
   "cell_type": "code",
   "execution_count": 2,
   "id": "aa395faa",
   "metadata": {},
   "outputs": [],
   "source": [
    "import Detect_Acne as DA"
   ]
  },
  {
   "cell_type": "code",
   "execution_count": null,
   "id": "67fdc331",
   "metadata": {},
   "outputs": [],
   "source": []
  },
  {
   "cell_type": "code",
   "execution_count": 1,
   "id": "f0763c30",
   "metadata": {},
   "outputs": [],
   "source": [
    "import cv2\n",
    "import numpy as np"
   ]
  },
  {
   "cell_type": "code",
   "execution_count": null,
   "id": "39719840",
   "metadata": {},
   "outputs": [],
   "source": [
    "img = cv2.imread('./ClearMask.png')\n",
    "ad = Acne_Dector(img)\n",
    "ad.run(method =1, debug=False)\n",
    "ad.show(ad.mask, 'mask')\n",
    "ad.show(ad.img, 'result')"
   ]
  }
 ],
 "metadata": {
  "kernelspec": {
   "display_name": "Python 3 (ipykernel)",
   "language": "python",
   "name": "python3"
  },
  "language_info": {
   "codemirror_mode": {
    "name": "ipython",
    "version": 3
   },
   "file_extension": ".py",
   "mimetype": "text/x-python",
   "name": "python",
   "nbconvert_exporter": "python",
   "pygments_lexer": "ipython3",
   "version": "3.9.7"
  }
 },
 "nbformat": 4,
 "nbformat_minor": 5
}
